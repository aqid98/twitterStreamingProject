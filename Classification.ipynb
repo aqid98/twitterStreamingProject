{
  "nbformat": 4,
  "nbformat_minor": 0,
  "metadata": {
    "colab": {
      "name": "6893_HW2PartI_Classification.ipynb",
      "provenance": [],
      "collapsed_sections": []
    },
    "kernelspec": {
      "name": "python3",
      "display_name": "Python 3"
    },
    "language_info": {
      "name": "python"
    }
  },
  "cells": [
    {
      "cell_type": "code",
      "metadata": {
        "id": "6hKq-n7G62-2"
      },
      "source": [
        "from pyspark.sql import SparkSession\n",
        "import matplotlib.pyplot as plt\n",
        "%matplotlib inline\n",
        "import numpy as np"
      ],
      "execution_count": 6,
      "outputs": []
    },
    {
      "cell_type": "code",
      "metadata": {
        "id": "mVbyY8SsvFu2"
      },
      "source": [
        "from pyspark.sql import SparkSession\n",
        "spark = SparkSession.builder \\\n",
        "    .master(\"local[*]\") \\\n",
        "    .appName(\"mlib\") \\\n",
        "    .getOrCreate()"
      ],
      "execution_count": 7,
      "outputs": []
    },
    {
      "cell_type": "markdown",
      "metadata": {
        "id": "V5_jvhfhtFCj"
      },
      "source": [
        "1. Data loading"
      ]
    },
    {
      "cell_type": "code",
      "metadata": {
        "id": "_Yi3ww9VtSKs",
        "colab": {
          "base_uri": "https://localhost:8080/",
          "height": 0
        },
        "outputId": "3e1aad81-24f1-49b9-f560-611e5555648c"
      },
      "source": [
        "#Read csv file to dataframe\n",
        "#=====your code here==========\n",
        "DATA_PATH = \"gs://mk4427hw2/adult.csv\"\n",
        "\n",
        "data = spark.read.csv(DATA_PATH,inferSchema=True, header=False)\n",
        "print(data.count(),len(data.columns))\n",
        "#===============================\n",
        "data.show(3)"
      ],
      "execution_count": 8,
      "outputs": [
        {
          "output_type": "stream",
          "name": "stdout",
          "text": [
            "32561 15\n",
            "+---+-----------------+--------+----------+----+-------------------+------------------+--------------+------+-----+------+----+----+--------------+------+\n",
            "|_c0|              _c1|     _c2|       _c3| _c4|                _c5|               _c6|           _c7|   _c8|  _c9|  _c10|_c11|_c12|          _c13|  _c14|\n",
            "+---+-----------------+--------+----------+----+-------------------+------------------+--------------+------+-----+------+----+----+--------------+------+\n",
            "| 39|        State-gov| 77516.0| Bachelors|13.0|      Never-married|      Adm-clerical| Not-in-family| White| Male|2174.0| 0.0|40.0| United-States| <=50K|\n",
            "| 50| Self-emp-not-inc| 83311.0| Bachelors|13.0| Married-civ-spouse|   Exec-managerial|       Husband| White| Male|   0.0| 0.0|13.0| United-States| <=50K|\n",
            "| 38|          Private|215646.0|   HS-grad| 9.0|           Divorced| Handlers-cleaners| Not-in-family| White| Male|   0.0| 0.0|40.0| United-States| <=50K|\n",
            "+---+-----------------+--------+----------+----+-------------------+------------------+--------------+------+-----+------+----+----+--------------+------+\n",
            "only showing top 3 rows\n",
            "\n"
          ]
        }
      ]
    },
    {
      "cell_type": "code",
      "metadata": {
        "id": "i9ZrT0OR79To"
      },
      "source": [
        "from functools import reduce"
      ],
      "execution_count": 9,
      "outputs": []
    },
    {
      "cell_type": "code",
      "metadata": {
        "id": "u9vNg2LFtoJK",
        "colab": {
          "base_uri": "https://localhost:8080/",
          "height": 0
        },
        "outputId": "9d225f5a-21a7-4c9c-a259-7de6e10d7cb0"
      },
      "source": [
        "#change the column names of dataframe\n",
        "df = data.withColumnRenamed('_c0','age').withColumnRenamed('_c1','workclass').withColumnRenamed('_c2','fnlwgt')\\\n",
        ".withColumnRenamed('_c3', 'education').withColumnRenamed('_c4', 'education_num')\\\n",
        ".withColumnRenamed('_c5','marital_status').withColumnRenamed('_c6', 'occupation').withColumnRenamed('_c7', 'relationship')\\\n",
        ".withColumnRenamed('_c8', 'race').withColumnRenamed('_c9', 'sex').withColumnRenamed('_c10', 'capital_gain')\\\n",
        ".withColumnRenamed('_c11', 'capital_loss').withColumnRenamed('_c12','hours_per_week')\\\n",
        ".withColumnRenamed('_c13', 'native_country').withColumnRenamed('_c14', 'income')\n",
        "\n",
        "df.printSchema()\n",
        "df.show(2)\n",
        "\n",
        "dataset = df"
      ],
      "execution_count": 10,
      "outputs": [
        {
          "output_type": "stream",
          "name": "stdout",
          "text": [
            "root\n",
            " |-- age: integer (nullable = true)\n",
            " |-- workclass: string (nullable = true)\n",
            " |-- fnlwgt: double (nullable = true)\n",
            " |-- education: string (nullable = true)\n",
            " |-- education_num: double (nullable = true)\n",
            " |-- marital_status: string (nullable = true)\n",
            " |-- occupation: string (nullable = true)\n",
            " |-- relationship: string (nullable = true)\n",
            " |-- race: string (nullable = true)\n",
            " |-- sex: string (nullable = true)\n",
            " |-- capital_gain: double (nullable = true)\n",
            " |-- capital_loss: double (nullable = true)\n",
            " |-- hours_per_week: double (nullable = true)\n",
            " |-- native_country: string (nullable = true)\n",
            " |-- income: string (nullable = true)\n",
            "\n",
            "+---+-----------------+-------+----------+-------------+-------------------+----------------+--------------+------+-----+------------+------------+--------------+--------------+------+\n",
            "|age|        workclass| fnlwgt| education|education_num|     marital_status|      occupation|  relationship|  race|  sex|capital_gain|capital_loss|hours_per_week|native_country|income|\n",
            "+---+-----------------+-------+----------+-------------+-------------------+----------------+--------------+------+-----+------------+------------+--------------+--------------+------+\n",
            "| 39|        State-gov|77516.0| Bachelors|         13.0|      Never-married|    Adm-clerical| Not-in-family| White| Male|      2174.0|         0.0|          40.0| United-States| <=50K|\n",
            "| 50| Self-emp-not-inc|83311.0| Bachelors|         13.0| Married-civ-spouse| Exec-managerial|       Husband| White| Male|         0.0|         0.0|          13.0| United-States| <=50K|\n",
            "+---+-----------------+-------+----------+-------------+-------------------+----------------+--------------+------+-----+------------+------------+--------------+--------------+------+\n",
            "only showing top 2 rows\n",
            "\n"
          ]
        }
      ]
    },
    {
      "cell_type": "markdown",
      "metadata": {
        "id": "CeRTQAUE6VfO"
      },
      "source": [
        "2. Data preprocessing"
      ]
    },
    {
      "cell_type": "code",
      "metadata": {
        "id": "3TKctNhO6bHG"
      },
      "source": [
        "from pyspark.ml import Pipeline\n",
        "from pyspark.ml.feature import OneHotEncoder, StringIndexer, VectorAssembler"
      ],
      "execution_count": 11,
      "outputs": []
    },
    {
      "cell_type": "code",
      "metadata": {
        "id": "_83QyptU_nDE"
      },
      "source": [
        "#stages in our Pipeline\n",
        "stages = []\n",
        "categoricalColumns = [\"workclass\",\"education\",\"marital_status\",\"occupation\",\"relationship\",\"race\",\"sex\",\"native_country\"]"
      ],
      "execution_count": 12,
      "outputs": []
    },
    {
      "cell_type": "code",
      "metadata": {
        "id": "CWCBHX35A4s1"
      },
      "source": [
        "for categoricalCol in categoricalColumns:\n",
        "    # Category Indexing with StringIndexer\n",
        "    stringIndexer = StringIndexer(inputCol=categoricalCol, outputCol=categoricalCol + \"Index\")\n",
        "    # Use OneHotEncoder to convert categorical variables into binary SparseVectors\n",
        "    encoder = OneHotEncoder(inputCols=[stringIndexer.getOutputCol()], outputCols=[categoricalCol + \"classVec\"])\n",
        "    # Add stages.  These are not run here, but will run all at once later on.\n",
        "    stages += [stringIndexer, encoder]"
      ],
      "execution_count": 13,
      "outputs": []
    },
    {
      "cell_type": "code",
      "metadata": {
        "id": "iNkhx2QVA-1b"
      },
      "source": [
        "# Convert label into label indices using the StringIndexer\n",
        "label_stringIdx = StringIndexer(inputCol=\"income\", outputCol=\"label\")\n",
        "stages += [label_stringIdx]"
      ],
      "execution_count": 14,
      "outputs": []
    },
    {
      "cell_type": "code",
      "metadata": {
        "id": "BB4TOB6MBCJ3"
      },
      "source": [
        "# Transform all features into a vector using VectorAssembler\n",
        "numericCols = [\"age\", \"fnlwgt\", \"education_num\", \"capital_gain\", \"capital_loss\", \"hours_per_week\"]\n",
        "assemblerInputs = [c + \"classVec\" for c in categoricalColumns] + numericCols\n",
        "assembler = VectorAssembler(inputCols=assemblerInputs, outputCol=\"features\")\n",
        "stages += [assembler]"
      ],
      "execution_count": 15,
      "outputs": []
    },
    {
      "cell_type": "code",
      "metadata": {
        "id": "Ab0WDG00Bqc0"
      },
      "source": [
        "pipeline = Pipeline(stages=stages)\n",
        "pipelineModel = pipeline.fit(dataset)\n",
        "preppedDataDF = pipelineModel.transform(dataset)"
      ],
      "execution_count": 16,
      "outputs": []
    },
    {
      "cell_type": "code",
      "metadata": {
        "id": "-x6nXJUiByOE",
        "colab": {
          "base_uri": "https://localhost:8080/",
          "height": 0
        },
        "outputId": "21d30f4b-9ec5-4a16-a63e-00c5daa95f81"
      },
      "source": [
        "preppedDataDF.take(3)"
      ],
      "execution_count": 17,
      "outputs": [
        {
          "output_type": "execute_result",
          "data": {
            "text/plain": [
              "[Row(age=39, workclass=' State-gov', fnlwgt=77516.0, education=' Bachelors', education_num=13.0, marital_status=' Never-married', occupation=' Adm-clerical', relationship=' Not-in-family', race=' White', sex=' Male', capital_gain=2174.0, capital_loss=0.0, hours_per_week=40.0, native_country=' United-States', income=' <=50K', workclassIndex=4.0, workclassclassVec=SparseVector(8, {4: 1.0}), educationIndex=2.0, educationclassVec=SparseVector(15, {2: 1.0}), marital_statusIndex=1.0, marital_statusclassVec=SparseVector(6, {1: 1.0}), occupationIndex=3.0, occupationclassVec=SparseVector(14, {3: 1.0}), relationshipIndex=1.0, relationshipclassVec=SparseVector(5, {1: 1.0}), raceIndex=0.0, raceclassVec=SparseVector(4, {0: 1.0}), sexIndex=0.0, sexclassVec=SparseVector(1, {0: 1.0}), native_countryIndex=0.0, native_countryclassVec=SparseVector(41, {0: 1.0}), label=0.0, features=SparseVector(100, {4: 1.0, 10: 1.0, 24: 1.0, 32: 1.0, 44: 1.0, 48: 1.0, 52: 1.0, 53: 1.0, 94: 39.0, 95: 77516.0, 96: 13.0, 97: 2174.0, 99: 40.0})),\n",
              " Row(age=50, workclass=' Self-emp-not-inc', fnlwgt=83311.0, education=' Bachelors', education_num=13.0, marital_status=' Married-civ-spouse', occupation=' Exec-managerial', relationship=' Husband', race=' White', sex=' Male', capital_gain=0.0, capital_loss=0.0, hours_per_week=13.0, native_country=' United-States', income=' <=50K', workclassIndex=1.0, workclassclassVec=SparseVector(8, {1: 1.0}), educationIndex=2.0, educationclassVec=SparseVector(15, {2: 1.0}), marital_statusIndex=0.0, marital_statusclassVec=SparseVector(6, {0: 1.0}), occupationIndex=2.0, occupationclassVec=SparseVector(14, {2: 1.0}), relationshipIndex=0.0, relationshipclassVec=SparseVector(5, {0: 1.0}), raceIndex=0.0, raceclassVec=SparseVector(4, {0: 1.0}), sexIndex=0.0, sexclassVec=SparseVector(1, {0: 1.0}), native_countryIndex=0.0, native_countryclassVec=SparseVector(41, {0: 1.0}), label=0.0, features=SparseVector(100, {1: 1.0, 10: 1.0, 23: 1.0, 31: 1.0, 43: 1.0, 48: 1.0, 52: 1.0, 53: 1.0, 94: 50.0, 95: 83311.0, 96: 13.0, 99: 13.0})),\n",
              " Row(age=38, workclass=' Private', fnlwgt=215646.0, education=' HS-grad', education_num=9.0, marital_status=' Divorced', occupation=' Handlers-cleaners', relationship=' Not-in-family', race=' White', sex=' Male', capital_gain=0.0, capital_loss=0.0, hours_per_week=40.0, native_country=' United-States', income=' <=50K', workclassIndex=0.0, workclassclassVec=SparseVector(8, {0: 1.0}), educationIndex=0.0, educationclassVec=SparseVector(15, {0: 1.0}), marital_statusIndex=2.0, marital_statusclassVec=SparseVector(6, {2: 1.0}), occupationIndex=9.0, occupationclassVec=SparseVector(14, {9: 1.0}), relationshipIndex=1.0, relationshipclassVec=SparseVector(5, {1: 1.0}), raceIndex=0.0, raceclassVec=SparseVector(4, {0: 1.0}), sexIndex=0.0, sexclassVec=SparseVector(1, {0: 1.0}), native_countryIndex=0.0, native_countryclassVec=SparseVector(41, {0: 1.0}), label=0.0, features=SparseVector(100, {0: 1.0, 8: 1.0, 25: 1.0, 38: 1.0, 44: 1.0, 48: 1.0, 52: 1.0, 53: 1.0, 94: 38.0, 95: 215646.0, 96: 9.0, 99: 40.0}))]"
            ]
          },
          "metadata": {},
          "execution_count": 17
        }
      ]
    },
    {
      "cell_type": "code",
      "metadata": {
        "id": "NPONX19OB2Tu",
        "colab": {
          "base_uri": "https://localhost:8080/",
          "height": 54
        },
        "outputId": "87350bc9-b473-4333-e5d1-d5012c4f8f02"
      },
      "source": [
        "# Keep relevant columns\n",
        "cols = dataset.columns\n",
        "selectedcols = [\"label\", \"features\"] + cols\n",
        "dataset = preppedDataDF.select(selectedcols)\n",
        "display(dataset)"
      ],
      "execution_count": 18,
      "outputs": [
        {
          "output_type": "display_data",
          "data": {
            "text/plain": [
              "DataFrame[label: double, features: vector, age: int, workclass: string, fnlwgt: double, education: string, education_num: double, marital_status: string, occupation: string, relationship: string, race: string, sex: string, capital_gain: double, capital_loss: double, hours_per_week: double, native_country: string, income: string]"
            ]
          },
          "metadata": {}
        }
      ]
    },
    {
      "cell_type": "code",
      "metadata": {
        "id": "ZYB1oCw4CJuc",
        "colab": {
          "base_uri": "https://localhost:8080/",
          "height": 0
        },
        "outputId": "b9c6e37a-96c7-4eaf-bae7-2f528a27f7a3"
      },
      "source": [
        "### Randomly split data into training and test sets. set seed for reproducibility\n",
        "#=====your code here==========\n",
        "train_split = 0.70\n",
        "test_split  = 0.30\n",
        "seed_val    = 100\n",
        "trainingData, testData = dataset.randomSplit([train_split,\n",
        "                                test_split],\n",
        "                               seed = seed_val)\n",
        "#===============================\n",
        "print(trainingData.count())\n",
        "print(testData.count())"
      ],
      "execution_count": 19,
      "outputs": [
        {
          "output_type": "stream",
          "name": "stdout",
          "text": [
            "22832\n",
            "9729\n"
          ]
        }
      ]
    },
    {
      "cell_type": "markdown",
      "metadata": {
        "id": "STxwMITSBLEH"
      },
      "source": [
        "3. Modeling"
      ]
    },
    {
      "cell_type": "code",
      "metadata": {
        "id": "2mej0dQPC22x",
        "colab": {
          "base_uri": "https://localhost:8080/",
          "height": 0
        },
        "outputId": "cc1f3ad9-ab91-4e5f-8add-2de67092449a"
      },
      "source": [
        "# Fit model to prepped data\n",
        "\n",
        "#LogisticRegression model, maxIter=10\n",
        "#=====your code here==========\n",
        "global_accuracy = {}\n",
        "from pyspark.ml.classification import LogisticRegression\n",
        "from pyspark.ml.evaluation import MulticlassClassificationEvaluator\n",
        "lr = LogisticRegression(featuresCol = 'features', labelCol = 'label', maxIter=10)\n",
        "lrModel = lr.fit(trainingData)\n",
        "\n",
        "\n",
        "#===============================\n",
        "\n",
        "\n",
        "# select example rows to display.\n",
        "predictions = lrModel.transform(testData)\n",
        "predictions.show()\n",
        "\n",
        "# compute accuracy on the test set\n",
        "evaluator = MulticlassClassificationEvaluator(labelCol=\"label\", predictionCol=\"prediction\", metricName=\"accuracy\")\n",
        "accuracy = evaluator.evaluate(predictions)\n",
        "print(\"Test set accuracy = \" + str(accuracy))\n",
        "global_accuracy[\"Logistic Regression model\"] = accuracy"
      ],
      "execution_count": 20,
      "outputs": [
        {
          "output_type": "stream",
          "name": "stdout",
          "text": [
            "+-----+--------------------+---+---------+--------+---------+-------------+-------------------+---------------+------------+------+-------+------------+------------+--------------+--------------+------+--------------------+--------------------+----------+\n",
            "|label|            features|age|workclass|  fnlwgt|education|education_num|     marital_status|     occupation|relationship|  race|    sex|capital_gain|capital_loss|hours_per_week|native_country|income|       rawPrediction|         probability|prediction|\n",
            "+-----+--------------------+---+---------+--------+---------+-------------+-------------------+---------------+------------+------+-------+------------+------------+--------------+--------------+------+--------------------+--------------------+----------+\n",
            "|  0.0|(100,[0,8,23,29,4...| 36|  Private|370767.0|  HS-grad|          9.0| Married-civ-spouse| Prof-specialty|     Husband| White|   Male|         0.0|      2377.0|          60.0| United-States| <=50K|[-1.6357510924782...|[0.16304404160706...|       1.0|\n",
            "|  0.0|(100,[0,8,23,29,4...| 32|  Private|131224.0|  HS-grad|          9.0| Married-civ-spouse| Prof-specialty|     Husband| White|   Male|         0.0|         0.0|          40.0| United-States| <=50K|[0.85295442256206...|[0.70118653255393...|       0.0|\n",
            "|  0.0|(100,[0,8,23,29,4...| 33|  Private|279173.0|  HS-grad|          9.0| Married-civ-spouse| Prof-specialty|     Husband| White|   Male|         0.0|         0.0|          60.0| United-States| <=50K|[-0.0079547668787...|[0.49801131876699...|       1.0|\n",
            "|  0.0|(100,[0,8,23,29,4...| 39|  Private| 50700.0|  HS-grad|          9.0| Married-civ-spouse| Prof-specialty|     Husband| White|   Male|         0.0|         0.0|          40.0| United-States| <=50K|[0.75957590854850...|[0.68126165186417...|       0.0|\n",
            "|  0.0|(100,[0,8,23,29,4...| 39|  Private|181705.0|  HS-grad|          9.0| Married-civ-spouse| Prof-specialty|     Husband| White|   Male|         0.0|         0.0|          45.0| United-States| <=50K|[0.45093725125709...|[0.61086205071159...|       0.0|\n",
            "|  0.0|(100,[0,8,23,29,4...| 50|  Private| 81548.0|  HS-grad|          9.0| Married-civ-spouse| Prof-specialty|     Husband| White|   Male|         0.0|         0.0|          40.0| United-States| <=50K|[0.44577471083810...|[0.60963416523577...|       0.0|\n",
            "|  0.0|(100,[0,8,23,29,4...| 51|  Private| 94432.0|  HS-grad|          9.0| Married-civ-spouse| Prof-specialty|     Husband| White|   Male|         0.0|         0.0|          40.0| United-States| <=50K|[0.40654788507449...|[0.60025983831183...|       0.0|\n",
            "|  0.0|(100,[0,8,23,29,4...| 60|  Private|198727.0|  HS-grad|          9.0| Married-civ-spouse| Prof-specialty|     Husband| White|   Male|         0.0|         0.0|          30.0| United-States| <=50K|[0.40504053581001...|[0.59989809832351...|       0.0|\n",
            "|  0.0|(100,[0,8,23,29,4...| 34|  Private|241360.0|  HS-grad|          9.0| Married-civ-spouse| Prof-specialty|     Husband| White|   Male|         0.0|         0.0|          40.0|             ?| <=50K|[1.08720718527683...|[0.74785545166146...|       0.0|\n",
            "|  0.0|(100,[0,8,23,29,4...| 20|  Private|219266.0|  HS-grad|          9.0| Married-civ-spouse| Prof-specialty|   Own-child| White| Female|         0.0|         0.0|          36.0|             ?| <=50K|[4.45822163249706...|[0.98854968464529...|       0.0|\n",
            "|  0.0|(100,[0,8,23,29,4...| 35|  Private|145704.0|  HS-grad|          9.0| Married-civ-spouse| Prof-specialty|        Wife| White| Female|      3942.0|         0.0|          35.0| United-States| <=50K|[-0.4161162517339...|[0.39744646947264...|       1.0|\n",
            "|  0.0|(100,[0,8,23,29,4...| 42|  Private|334783.0|  HS-grad|          9.0| Married-civ-spouse| Prof-specialty|        Wife| White| Female|         0.0|         0.0|          40.0| United-States| <=50K|[-0.1412642631044...|[0.46474254667877...|       1.0|\n",
            "|  0.0|(100,[0,8,23,29,4...| 43|  Private|216685.0|  HS-grad|          9.0| Married-civ-spouse| Prof-specialty|        Wife| White| Female|         0.0|         0.0|          35.0| United-States| <=50K|[0.12812315412836...|[0.53198704344275...|       0.0|\n",
            "|  0.0|(100,[0,8,23,29,4...| 48|  Private|199763.0|  HS-grad|          9.0| Married-civ-spouse| Prof-specialty|        Wife| White| Female|         0.0|         0.0|           8.0| United-States| <=50K|[0.93405412789109...|[0.71789705582499...|       0.0|\n",
            "|  0.0|(100,[0,8,23,29,4...| 50|  Private|287927.0|  HS-grad|          9.0| Married-civ-spouse| Prof-specialty|        Wife| White| Female|         0.0|         0.0|          16.0| United-States| <=50K|[0.51804285050028...|[0.62669000553591...|       0.0|\n",
            "|  0.0|(100,[0,8,23,30,4...| 27|  Private| 57052.0|  HS-grad|          9.0| Married-civ-spouse|   Craft-repair|     Husband| White|   Male|      2885.0|         0.0|          40.0| United-States| <=50K|[0.89518447502861...|[0.70995890639769...|       0.0|\n",
            "|  0.0|(100,[0,8,23,30,4...| 32|  Private|400535.0|  HS-grad|          9.0| Married-civ-spouse|   Craft-repair|     Husband| White|   Male|      3781.0|         0.0|          40.0| United-States| <=50K|[0.21553806989755...|[0.55367687417209...|       0.0|\n",
            "|  0.0|(100,[0,8,23,30,4...| 45|  Private|362883.0|  HS-grad|          9.0| Married-civ-spouse|   Craft-repair|     Husband| White|   Male|      5013.0|         0.0|          40.0| United-States| <=50K|[-0.3341750478795...|[0.41722511781254...|       1.0|\n",
            "|  0.0|(100,[0,8,23,30,4...| 46|  Private|248059.0|  HS-grad|          9.0| Married-civ-spouse|   Craft-repair|     Husband| White|   Male|      3464.0|         0.0|          40.0| United-States| <=50K|[0.08594392287131...|[0.52147276521727...|       0.0|\n",
            "|  0.0|(100,[0,8,23,30,4...| 56|  Private|235826.0|  HS-grad|          9.0| Married-civ-spouse|   Craft-repair|     Husband| White|   Male|      5013.0|         0.0|          40.0| United-States| <=50K|[-0.4803614956010...|[0.38216676694290...|       1.0|\n",
            "+-----+--------------------+---+---------+--------+---------+-------------+-------------------+---------------+------------+------+-------+------------+------------+--------------+--------------+------+--------------------+--------------------+----------+\n",
            "only showing top 20 rows\n",
            "\n",
            "Test set accuracy = 0.8446911296124987\n"
          ]
        }
      ]
    },
    {
      "cell_type": "code",
      "metadata": {
        "id": "7AwIbeIwbpsY",
        "colab": {
          "base_uri": "https://localhost:8080/",
          "height": 0
        },
        "outputId": "4150c4d5-fd40-4b2a-9088-f6427dfca079"
      },
      "source": [
        "#Random Forest\n",
        "from pyspark.ml.classification import RandomForestClassifier\n",
        "\n",
        "rf =   RandomForestClassifier(featuresCol = 'features', labelCol = 'label')\n",
        "rfModel = rf.fit(trainingData)\n",
        "\n",
        "# select example rows to display.\n",
        "predictions = rfModel.transform(testData)\n",
        "predictions.show()\n",
        "\n",
        "# compute accuracy on the test set\n",
        "evaluator = MulticlassClassificationEvaluator(labelCol=\"label\", predictionCol=\"prediction\", metricName=\"accuracy\")\n",
        "accuracy = evaluator.evaluate(predictions)\n",
        "print(\"Test set accuracy = \" + str(accuracy))\n",
        "global_accuracy[\"Random Forest model\"] = accuracy\n"
      ],
      "execution_count": 21,
      "outputs": [
        {
          "output_type": "stream",
          "name": "stdout",
          "text": [
            "+-----+--------------------+---+---------+--------+---------+-------------+-------------------+---------------+------------+------+-------+------------+------------+--------------+--------------+------+--------------------+--------------------+----------+\n",
            "|label|            features|age|workclass|  fnlwgt|education|education_num|     marital_status|     occupation|relationship|  race|    sex|capital_gain|capital_loss|hours_per_week|native_country|income|       rawPrediction|         probability|prediction|\n",
            "+-----+--------------------+---+---------+--------+---------+-------------+-------------------+---------------+------------+------+-------+------------+------------+--------------+--------------+------+--------------------+--------------------+----------+\n",
            "|  0.0|(100,[0,8,23,29,4...| 36|  Private|370767.0|  HS-grad|          9.0| Married-civ-spouse| Prof-specialty|     Husband| White|   Male|         0.0|      2377.0|          60.0| United-States| <=50K|[10.3314778610465...|[0.51657389305232...|       0.0|\n",
            "|  0.0|(100,[0,8,23,29,4...| 32|  Private|131224.0|  HS-grad|          9.0| Married-civ-spouse| Prof-specialty|     Husband| White|   Male|         0.0|         0.0|          40.0| United-States| <=50K|[13.0626168542060...|[0.65313084271030...|       0.0|\n",
            "|  0.0|(100,[0,8,23,29,4...| 33|  Private|279173.0|  HS-grad|          9.0| Married-civ-spouse| Prof-specialty|     Husband| White|   Male|         0.0|         0.0|          60.0| United-States| <=50K|[12.4519467218054...|[0.62259733609027...|       0.0|\n",
            "|  0.0|(100,[0,8,23,29,4...| 39|  Private| 50700.0|  HS-grad|          9.0| Married-civ-spouse| Prof-specialty|     Husband| White|   Male|         0.0|         0.0|          40.0| United-States| <=50K|[12.6409981229837...|[0.63204990614918...|       0.0|\n",
            "|  0.0|(100,[0,8,23,29,4...| 39|  Private|181705.0|  HS-grad|          9.0| Married-civ-spouse| Prof-specialty|     Husband| White|   Male|         0.0|         0.0|          45.0| United-States| <=50K|[11.7398554646183...|[0.58699277323091...|       0.0|\n",
            "|  0.0|(100,[0,8,23,29,4...| 50|  Private| 81548.0|  HS-grad|          9.0| Married-civ-spouse| Prof-specialty|     Husband| White|   Male|         0.0|         0.0|          40.0| United-States| <=50K|[12.6409981229837...|[0.63204990614918...|       0.0|\n",
            "|  0.0|(100,[0,8,23,29,4...| 51|  Private| 94432.0|  HS-grad|          9.0| Married-civ-spouse| Prof-specialty|     Husband| White|   Male|         0.0|         0.0|          40.0| United-States| <=50K|[12.6409981229837...|[0.63204990614918...|       0.0|\n",
            "|  0.0|(100,[0,8,23,29,4...| 60|  Private|198727.0|  HS-grad|          9.0| Married-civ-spouse| Prof-specialty|     Husband| White|   Male|         0.0|         0.0|          30.0| United-States| <=50K|[12.6409981229837...|[0.63204990614918...|       0.0|\n",
            "|  0.0|(100,[0,8,23,29,4...| 34|  Private|241360.0|  HS-grad|          9.0| Married-civ-spouse| Prof-specialty|     Husband| White|   Male|         0.0|         0.0|          40.0|             ?| <=50K|[12.6409981229837...|[0.63204990614918...|       0.0|\n",
            "|  0.0|(100,[0,8,23,29,4...| 20|  Private|219266.0|  HS-grad|          9.0| Married-civ-spouse| Prof-specialty|   Own-child| White| Female|         0.0|         0.0|          36.0|             ?| <=50K|[15.3035461143506...|[0.76517730571753...|       0.0|\n",
            "|  0.0|(100,[0,8,23,29,4...| 35|  Private|145704.0|  HS-grad|          9.0| Married-civ-spouse| Prof-specialty|        Wife| White| Female|      3942.0|         0.0|          35.0| United-States| <=50K|[13.7955451336656...|[0.68977725668328...|       0.0|\n",
            "|  0.0|(100,[0,8,23,29,4...| 42|  Private|334783.0|  HS-grad|          9.0| Married-civ-spouse| Prof-specialty|        Wife| White| Female|         0.0|         0.0|          40.0| United-States| <=50K|[15.1906476592596...|[0.75953238296298...|       0.0|\n",
            "|  0.0|(100,[0,8,23,29,4...| 43|  Private|216685.0|  HS-grad|          9.0| Married-civ-spouse| Prof-specialty|        Wife| White| Female|         0.0|         0.0|          35.0| United-States| <=50K|[15.1906476592596...|[0.75953238296298...|       0.0|\n",
            "|  0.0|(100,[0,8,23,29,4...| 48|  Private|199763.0|  HS-grad|          9.0| Married-civ-spouse| Prof-specialty|        Wife| White| Female|         0.0|         0.0|           8.0| United-States| <=50K|[15.1906476592596...|[0.75953238296298...|       0.0|\n",
            "|  0.0|(100,[0,8,23,29,4...| 50|  Private|287927.0|  HS-grad|          9.0| Married-civ-spouse| Prof-specialty|        Wife| White| Female|         0.0|         0.0|          16.0| United-States| <=50K|[15.1906476592596...|[0.75953238296298...|       0.0|\n",
            "|  0.0|(100,[0,8,23,30,4...| 27|  Private| 57052.0|  HS-grad|          9.0| Married-civ-spouse|   Craft-repair|     Husband| White|   Male|      2885.0|         0.0|          40.0| United-States| <=50K|[14.8764677025864...|[0.74382338512932...|       0.0|\n",
            "|  0.0|(100,[0,8,23,30,4...| 32|  Private|400535.0|  HS-grad|          9.0| Married-civ-spouse|   Craft-repair|     Husband| White|   Male|      3781.0|         0.0|          40.0| United-States| <=50K|[12.7638481370095...|[0.63819240685047...|       0.0|\n",
            "|  0.0|(100,[0,8,23,30,4...| 45|  Private|362883.0|  HS-grad|          9.0| Married-civ-spouse|   Craft-repair|     Husband| White|   Male|      5013.0|         0.0|          40.0| United-States| <=50K|[11.6661300750909...|[0.58330650375454...|       0.0|\n",
            "|  0.0|(100,[0,8,23,30,4...| 46|  Private|248059.0|  HS-grad|          9.0| Married-civ-spouse|   Craft-repair|     Husband| White|   Male|      3464.0|         0.0|          40.0| United-States| <=50K|[11.6661300750909...|[0.58330650375454...|       0.0|\n",
            "|  0.0|(100,[0,8,23,30,4...| 56|  Private|235826.0|  HS-grad|          9.0| Married-civ-spouse|   Craft-repair|     Husband| White|   Male|      5013.0|         0.0|          40.0| United-States| <=50K|[11.6661300750909...|[0.58330650375454...|       0.0|\n",
            "+-----+--------------------+---+---------+--------+---------+-------------+-------------------+---------------+------------+------+-------+------------+------------+--------------+--------------+------+--------------------+--------------------+----------+\n",
            "only showing top 20 rows\n",
            "\n",
            "Test set accuracy = 0.828245451742214\n"
          ]
        }
      ]
    },
    {
      "cell_type": "code",
      "metadata": {
        "id": "PHc1qAd6Skf1",
        "colab": {
          "base_uri": "https://localhost:8080/",
          "height": 0
        },
        "outputId": "f897dcc9-2dec-471c-bf12-09ec276d14b9"
      },
      "source": [
        "#NaiveBayes\n",
        "#=====your code here==========\n",
        "from pyspark.ml.classification import NaiveBayes\n",
        "\n",
        "nb = NaiveBayes(featuresCol = 'features', labelCol = 'label', modelType=\"multinomial\")\n",
        "nbModel = nb.fit(trainingData)\n",
        "\n",
        "\n",
        "\n",
        "#===============================\n",
        "\n",
        "\n",
        "# select example rows to display.\n",
        "predictions = nbModel.transform(testData)\n",
        "predictions.show()\n",
        "\n",
        "# compute accuracy on the test set\n",
        "evaluator = MulticlassClassificationEvaluator(labelCol=\"label\", predictionCol=\"prediction\", metricName=\"accuracy\")\n",
        "accuracy = evaluator.evaluate(predictions)\n",
        "print(\"Test set accuracy = \" + str(accuracy))\n",
        "global_accuracy[\"Naive Bayes model\"] = accuracy"
      ],
      "execution_count": 22,
      "outputs": [
        {
          "output_type": "stream",
          "name": "stdout",
          "text": [
            "+-----+--------------------+---+---------+--------+---------+-------------+-------------------+---------------+------------+------+-------+------------+------------+--------------+--------------+------+--------------------+-----------+----------+\n",
            "|label|            features|age|workclass|  fnlwgt|education|education_num|     marital_status|     occupation|relationship|  race|    sex|capital_gain|capital_loss|hours_per_week|native_country|income|       rawPrediction|probability|prediction|\n",
            "+-----+--------------------+---+---------+--------+---------+-------------+-------------------+---------------+------------+------+-------+------------+------------+--------------+--------------+------+--------------------+-----------+----------+\n",
            "|  0.0|(100,[0,8,23,29,4...| 36|  Private|370767.0|  HS-grad|          9.0| Married-civ-spouse| Prof-specialty|     Husband| White|   Male|         0.0|      2377.0|          60.0| United-States| <=50K|[-21080.497829550...|  [1.0,0.0]|       0.0|\n",
            "|  0.0|(100,[0,8,23,29,4...| 32|  Private|131224.0|  HS-grad|          9.0| Married-civ-spouse| Prof-specialty|     Husband| White|   Male|         0.0|         0.0|          40.0| United-States| <=50K|[-1004.1671576536...|  [1.0,0.0]|       0.0|\n",
            "|  0.0|(100,[0,8,23,29,4...| 33|  Private|279173.0|  HS-grad|          9.0| Married-civ-spouse| Prof-specialty|     Husband| White|   Male|         0.0|         0.0|          60.0| United-States| <=50K|[-1404.5906462686...|  [1.0,0.0]|       0.0|\n",
            "|  0.0|(100,[0,8,23,29,4...| 39|  Private| 50700.0|  HS-grad|          9.0| Married-civ-spouse| Prof-specialty|     Husband| White|   Male|         0.0|         0.0|          40.0| United-States| <=50K|[-943.33660600016...|  [1.0,0.0]|       0.0|\n",
            "|  0.0|(100,[0,8,23,29,4...| 39|  Private|181705.0|  HS-grad|          9.0| Married-civ-spouse| Prof-specialty|     Husband| White|   Male|         0.0|         0.0|          45.0| United-States| <=50K|[-1182.2638536542...|  [1.0,0.0]|       0.0|\n",
            "|  0.0|(100,[0,8,23,29,4...| 50|  Private| 81548.0|  HS-grad|          9.0| Married-civ-spouse| Prof-specialty|     Husband| White|   Male|         0.0|         0.0|          40.0| United-States| <=50K|[-1083.7138225294...|  [1.0,0.0]|       0.0|\n",
            "|  0.0|(100,[0,8,23,29,4...| 51|  Private| 94432.0|  HS-grad|          9.0| Married-civ-spouse| Prof-specialty|     Husband| White|   Male|         0.0|         0.0|          40.0| United-States| <=50K|[-1111.5877661015...|  [1.0,0.0]|       0.0|\n",
            "|  0.0|(100,[0,8,23,29,4...| 60|  Private|198727.0|  HS-grad|          9.0| Married-civ-spouse| Prof-specialty|     Husband| White|   Male|         0.0|         0.0|          30.0| United-States| <=50K|[-1259.9465127835...|  [1.0,0.0]|       0.0|\n",
            "|  0.0|(100,[0,8,23,29,4...| 34|  Private|241360.0|  HS-grad|          9.0| Married-civ-spouse| Prof-specialty|     Husband| White|   Male|         0.0|         0.0|          40.0|             ?| <=50K|[-1190.3169969817...|  [1.0,0.0]|       0.0|\n",
            "|  0.0|(100,[0,8,23,29,4...| 20|  Private|219266.0|  HS-grad|          9.0| Married-civ-spouse| Prof-specialty|   Own-child| White| Female|         0.0|         0.0|          36.0|             ?| <=50K|[-991.09698062001...|  [1.0,0.0]|       0.0|\n",
            "|  0.0|(100,[0,8,23,29,4...| 35|  Private|145704.0|  HS-grad|          9.0| Married-civ-spouse| Prof-specialty|        Wife| White| Female|      3942.0|         0.0|          35.0| United-States| <=50K|[-29410.686444171...|  [0.0,1.0]|       1.0|\n",
            "|  0.0|(100,[0,8,23,29,4...| 42|  Private|334783.0|  HS-grad|          9.0| Married-civ-spouse| Prof-specialty|        Wife| White| Female|         0.0|         0.0|          40.0| United-States| <=50K|[-1384.4459812834...|  [1.0,0.0]|       0.0|\n",
            "|  0.0|(100,[0,8,23,29,4...| 43|  Private|216685.0|  HS-grad|          9.0| Married-civ-spouse| Prof-specialty|        Wife| White| Female|         0.0|         0.0|          35.0| United-States| <=50K|[-1173.4271610548...|  [1.0,0.0]|       0.0|\n",
            "|  0.0|(100,[0,8,23,29,4...| 48|  Private|199763.0|  HS-grad|          9.0| Married-civ-spouse| Prof-specialty|        Wife| White| Female|         0.0|         0.0|           8.0| United-States| <=50K|[-961.27771700876...|  [1.0,0.0]|       0.0|\n",
            "|  0.0|(100,[0,8,23,29,4...| 50|  Private|287927.0|  HS-grad|          9.0| Married-civ-spouse| Prof-specialty|        Wife| White| Female|         0.0|         0.0|          16.0| United-States| <=50K|[-1178.5945462574...|  [1.0,0.0]|       0.0|\n",
            "|  0.0|(100,[0,8,23,30,4...| 27|  Private| 57052.0|  HS-grad|          9.0| Married-civ-spouse|   Craft-repair|     Husband| White|   Male|      2885.0|         0.0|          40.0| United-States| <=50K|[-21643.618304778...|  [0.0,1.0]|       1.0|\n",
            "|  0.0|(100,[0,8,23,30,4...| 32|  Private|400535.0|  HS-grad|          9.0| Married-civ-spouse|   Craft-repair|     Husband| White|   Male|      3781.0|         0.0|          40.0| United-States| <=50K|[-28659.345677768...|  [0.0,1.0]|       1.0|\n",
            "|  0.0|(100,[0,8,23,30,4...| 45|  Private|362883.0|  HS-grad|          9.0| Married-civ-spouse|   Craft-repair|     Husband| White|   Male|      5013.0|         0.0|          40.0| United-States| <=50K|[-37593.828671294...|  [0.0,1.0]|       1.0|\n",
            "|  0.0|(100,[0,8,23,30,4...| 46|  Private|248059.0|  HS-grad|          9.0| Married-civ-spouse|   Craft-repair|     Husband| White|   Male|      3464.0|         0.0|          40.0| United-States| <=50K|[-26265.745236422...|  [0.0,1.0]|       1.0|\n",
            "|  0.0|(100,[0,8,23,30,4...| 56|  Private|235826.0|  HS-grad|          9.0| Married-civ-spouse|   Craft-repair|     Husband| White|   Male|      5013.0|         0.0|          40.0| United-States| <=50K|[-37497.459240388...|  [0.0,1.0]|       1.0|\n",
            "+-----+--------------------+---+---------+--------+---------+-------------+-------------------+---------------+------------+------+-------+------------+------------+--------------+--------------+------+--------------------+-----------+----------+\n",
            "only showing top 20 rows\n",
            "\n",
            "Test set accuracy = 0.7796279165381849\n"
          ]
        }
      ]
    },
    {
      "cell_type": "code",
      "metadata": {
        "id": "PBbr8btnbyV3",
        "colab": {
          "base_uri": "https://localhost:8080/",
          "height": 0
        },
        "outputId": "8aad5401-6299-46ac-ee31-96aed37a0b8a"
      },
      "source": [
        "#Decision Tree\n",
        "\n",
        "from pyspark.ml.classification import DecisionTreeClassifier\n",
        "\n",
        "dt =   DecisionTreeClassifier(featuresCol = 'features', labelCol = 'label')\n",
        "dtModel = dt.fit(trainingData)\n",
        "\n",
        "# select example rows to display.\n",
        "predictions = rfModel.transform(testData)\n",
        "predictions.show()\n",
        "\n",
        "# compute accuracy on the test set\n",
        "evaluator = MulticlassClassificationEvaluator(labelCol=\"label\", predictionCol=\"prediction\", metricName=\"accuracy\")\n",
        "accuracy = evaluator.evaluate(predictions)\n",
        "print(\"Test set accuracy = \" + str(accuracy))\n",
        "global_accuracy[\"Decision Tree\"] = accuracy\n"
      ],
      "execution_count": 23,
      "outputs": [
        {
          "output_type": "stream",
          "name": "stdout",
          "text": [
            "+-----+--------------------+---+---------+--------+---------+-------------+-------------------+---------------+------------+------+-------+------------+------------+--------------+--------------+------+--------------------+--------------------+----------+\n",
            "|label|            features|age|workclass|  fnlwgt|education|education_num|     marital_status|     occupation|relationship|  race|    sex|capital_gain|capital_loss|hours_per_week|native_country|income|       rawPrediction|         probability|prediction|\n",
            "+-----+--------------------+---+---------+--------+---------+-------------+-------------------+---------------+------------+------+-------+------------+------------+--------------+--------------+------+--------------------+--------------------+----------+\n",
            "|  0.0|(100,[0,8,23,29,4...| 36|  Private|370767.0|  HS-grad|          9.0| Married-civ-spouse| Prof-specialty|     Husband| White|   Male|         0.0|      2377.0|          60.0| United-States| <=50K|[10.3314778610465...|[0.51657389305232...|       0.0|\n",
            "|  0.0|(100,[0,8,23,29,4...| 32|  Private|131224.0|  HS-grad|          9.0| Married-civ-spouse| Prof-specialty|     Husband| White|   Male|         0.0|         0.0|          40.0| United-States| <=50K|[13.0626168542060...|[0.65313084271030...|       0.0|\n",
            "|  0.0|(100,[0,8,23,29,4...| 33|  Private|279173.0|  HS-grad|          9.0| Married-civ-spouse| Prof-specialty|     Husband| White|   Male|         0.0|         0.0|          60.0| United-States| <=50K|[12.4519467218054...|[0.62259733609027...|       0.0|\n",
            "|  0.0|(100,[0,8,23,29,4...| 39|  Private| 50700.0|  HS-grad|          9.0| Married-civ-spouse| Prof-specialty|     Husband| White|   Male|         0.0|         0.0|          40.0| United-States| <=50K|[12.6409981229837...|[0.63204990614918...|       0.0|\n",
            "|  0.0|(100,[0,8,23,29,4...| 39|  Private|181705.0|  HS-grad|          9.0| Married-civ-spouse| Prof-specialty|     Husband| White|   Male|         0.0|         0.0|          45.0| United-States| <=50K|[11.7398554646183...|[0.58699277323091...|       0.0|\n",
            "|  0.0|(100,[0,8,23,29,4...| 50|  Private| 81548.0|  HS-grad|          9.0| Married-civ-spouse| Prof-specialty|     Husband| White|   Male|         0.0|         0.0|          40.0| United-States| <=50K|[12.6409981229837...|[0.63204990614918...|       0.0|\n",
            "|  0.0|(100,[0,8,23,29,4...| 51|  Private| 94432.0|  HS-grad|          9.0| Married-civ-spouse| Prof-specialty|     Husband| White|   Male|         0.0|         0.0|          40.0| United-States| <=50K|[12.6409981229837...|[0.63204990614918...|       0.0|\n",
            "|  0.0|(100,[0,8,23,29,4...| 60|  Private|198727.0|  HS-grad|          9.0| Married-civ-spouse| Prof-specialty|     Husband| White|   Male|         0.0|         0.0|          30.0| United-States| <=50K|[12.6409981229837...|[0.63204990614918...|       0.0|\n",
            "|  0.0|(100,[0,8,23,29,4...| 34|  Private|241360.0|  HS-grad|          9.0| Married-civ-spouse| Prof-specialty|     Husband| White|   Male|         0.0|         0.0|          40.0|             ?| <=50K|[12.6409981229837...|[0.63204990614918...|       0.0|\n",
            "|  0.0|(100,[0,8,23,29,4...| 20|  Private|219266.0|  HS-grad|          9.0| Married-civ-spouse| Prof-specialty|   Own-child| White| Female|         0.0|         0.0|          36.0|             ?| <=50K|[15.3035461143506...|[0.76517730571753...|       0.0|\n",
            "|  0.0|(100,[0,8,23,29,4...| 35|  Private|145704.0|  HS-grad|          9.0| Married-civ-spouse| Prof-specialty|        Wife| White| Female|      3942.0|         0.0|          35.0| United-States| <=50K|[13.7955451336656...|[0.68977725668328...|       0.0|\n",
            "|  0.0|(100,[0,8,23,29,4...| 42|  Private|334783.0|  HS-grad|          9.0| Married-civ-spouse| Prof-specialty|        Wife| White| Female|         0.0|         0.0|          40.0| United-States| <=50K|[15.1906476592596...|[0.75953238296298...|       0.0|\n",
            "|  0.0|(100,[0,8,23,29,4...| 43|  Private|216685.0|  HS-grad|          9.0| Married-civ-spouse| Prof-specialty|        Wife| White| Female|         0.0|         0.0|          35.0| United-States| <=50K|[15.1906476592596...|[0.75953238296298...|       0.0|\n",
            "|  0.0|(100,[0,8,23,29,4...| 48|  Private|199763.0|  HS-grad|          9.0| Married-civ-spouse| Prof-specialty|        Wife| White| Female|         0.0|         0.0|           8.0| United-States| <=50K|[15.1906476592596...|[0.75953238296298...|       0.0|\n",
            "|  0.0|(100,[0,8,23,29,4...| 50|  Private|287927.0|  HS-grad|          9.0| Married-civ-spouse| Prof-specialty|        Wife| White| Female|         0.0|         0.0|          16.0| United-States| <=50K|[15.1906476592596...|[0.75953238296298...|       0.0|\n",
            "|  0.0|(100,[0,8,23,30,4...| 27|  Private| 57052.0|  HS-grad|          9.0| Married-civ-spouse|   Craft-repair|     Husband| White|   Male|      2885.0|         0.0|          40.0| United-States| <=50K|[14.8764677025864...|[0.74382338512932...|       0.0|\n",
            "|  0.0|(100,[0,8,23,30,4...| 32|  Private|400535.0|  HS-grad|          9.0| Married-civ-spouse|   Craft-repair|     Husband| White|   Male|      3781.0|         0.0|          40.0| United-States| <=50K|[12.7638481370095...|[0.63819240685047...|       0.0|\n",
            "|  0.0|(100,[0,8,23,30,4...| 45|  Private|362883.0|  HS-grad|          9.0| Married-civ-spouse|   Craft-repair|     Husband| White|   Male|      5013.0|         0.0|          40.0| United-States| <=50K|[11.6661300750909...|[0.58330650375454...|       0.0|\n",
            "|  0.0|(100,[0,8,23,30,4...| 46|  Private|248059.0|  HS-grad|          9.0| Married-civ-spouse|   Craft-repair|     Husband| White|   Male|      3464.0|         0.0|          40.0| United-States| <=50K|[11.6661300750909...|[0.58330650375454...|       0.0|\n",
            "|  0.0|(100,[0,8,23,30,4...| 56|  Private|235826.0|  HS-grad|          9.0| Married-civ-spouse|   Craft-repair|     Husband| White|   Male|      5013.0|         0.0|          40.0| United-States| <=50K|[11.6661300750909...|[0.58330650375454...|       0.0|\n",
            "+-----+--------------------+---+---------+--------+---------+-------------+-------------------+---------------+------------+------+-------+------------+------------+--------------+--------------+------+--------------------+--------------------+----------+\n",
            "only showing top 20 rows\n",
            "\n",
            "Test set accuracy = 0.828245451742214\n"
          ]
        }
      ]
    },
    {
      "cell_type": "code",
      "metadata": {
        "id": "4nccBiy_b8KT",
        "colab": {
          "base_uri": "https://localhost:8080/",
          "height": 0
        },
        "outputId": "d25e1fed-c556-4530-bd87-640276c73e4f"
      },
      "source": [
        "#Gradient Boosting Trees\n",
        "\n",
        "from pyspark.ml.classification import GBTClassifier\n",
        "\n",
        "gc = GBTClassifier(featuresCol = 'features', labelCol = 'label', maxIter=10)\n",
        "gcModel = gc.fit(trainingData)\n",
        "\n",
        "# select example rows to display.\n",
        "predictions = gcModel.transform(testData)\n",
        "predictions.show()\n",
        "\n",
        "# compute accuracy on the test set\n",
        "evaluator = MulticlassClassificationEvaluator(labelCol=\"label\", predictionCol=\"prediction\", metricName=\"accuracy\")\n",
        "accuracy = evaluator.evaluate(predictions)\n",
        "print(\"Test set accuracy = \" + str(accuracy))\n",
        "global_accuracy[\"Gradient Boosting Trees\"] = accuracy"
      ],
      "execution_count": 24,
      "outputs": [
        {
          "output_type": "stream",
          "name": "stdout",
          "text": [
            "+-----+--------------------+---+---------+--------+---------+-------------+-------------------+---------------+------------+------+-------+------------+------------+--------------+--------------+------+--------------------+--------------------+----------+\n",
            "|label|            features|age|workclass|  fnlwgt|education|education_num|     marital_status|     occupation|relationship|  race|    sex|capital_gain|capital_loss|hours_per_week|native_country|income|       rawPrediction|         probability|prediction|\n",
            "+-----+--------------------+---+---------+--------+---------+-------------+-------------------+---------------+------------+------+-------+------------+------------+--------------+--------------+------+--------------------+--------------------+----------+\n",
            "|  0.0|(100,[0,8,23,29,4...| 36|  Private|370767.0|  HS-grad|          9.0| Married-civ-spouse| Prof-specialty|     Husband| White|   Male|         0.0|      2377.0|          60.0| United-States| <=50K|[-0.5281553908031...|[0.25801510011658...|       1.0|\n",
            "|  0.0|(100,[0,8,23,29,4...| 32|  Private|131224.0|  HS-grad|          9.0| Married-civ-spouse| Prof-specialty|     Husband| White|   Male|         0.0|         0.0|          40.0| United-States| <=50K|[0.53613777444478...|[0.74502942138867...|       0.0|\n",
            "|  0.0|(100,[0,8,23,29,4...| 33|  Private|279173.0|  HS-grad|          9.0| Married-civ-spouse| Prof-specialty|     Husband| White|   Male|         0.0|         0.0|          60.0| United-States| <=50K|[0.39680067151121...|[0.68860408520306...|       0.0|\n",
            "|  0.0|(100,[0,8,23,29,4...| 39|  Private| 50700.0|  HS-grad|          9.0| Married-civ-spouse| Prof-specialty|     Husband| White|   Male|         0.0|         0.0|          40.0| United-States| <=50K|[0.29203089734458...|[0.64200148873831...|       0.0|\n",
            "|  0.0|(100,[0,8,23,29,4...| 39|  Private|181705.0|  HS-grad|          9.0| Married-civ-spouse| Prof-specialty|     Husband| White|   Male|         0.0|         0.0|          45.0| United-States| <=50K|[0.26543066508788...|[0.62968398114127...|       0.0|\n",
            "|  0.0|(100,[0,8,23,29,4...| 50|  Private| 81548.0|  HS-grad|          9.0| Married-civ-spouse| Prof-specialty|     Husband| White|   Male|         0.0|         0.0|          40.0| United-States| <=50K|[0.29203089734458...|[0.64200148873831...|       0.0|\n",
            "|  0.0|(100,[0,8,23,29,4...| 51|  Private| 94432.0|  HS-grad|          9.0| Married-civ-spouse| Prof-specialty|     Husband| White|   Male|         0.0|         0.0|          40.0| United-States| <=50K|[0.29203089734458...|[0.64200148873831...|       0.0|\n",
            "|  0.0|(100,[0,8,23,29,4...| 60|  Private|198727.0|  HS-grad|          9.0| Married-civ-spouse| Prof-specialty|     Husband| White|   Male|         0.0|         0.0|          30.0| United-States| <=50K|[0.57043930933393...|[0.75784091792440...|       0.0|\n",
            "|  0.0|(100,[0,8,23,29,4...| 34|  Private|241360.0|  HS-grad|          9.0| Married-civ-spouse| Prof-specialty|     Husband| White|   Male|         0.0|         0.0|          40.0|             ?| <=50K|[0.39568587772693...|[0.68812579716080...|       0.0|\n",
            "|  0.0|(100,[0,8,23,29,4...| 20|  Private|219266.0|  HS-grad|          9.0| Married-civ-spouse| Prof-specialty|   Own-child| White| Female|         0.0|         0.0|          36.0|             ?| <=50K|[0.75418669730704...|[0.81882001889688...|       0.0|\n",
            "|  0.0|(100,[0,8,23,29,4...| 35|  Private|145704.0|  HS-grad|          9.0| Married-civ-spouse| Prof-specialty|        Wife| White| Female|      3942.0|         0.0|          35.0| United-States| <=50K|[0.10466667854880...|[0.55214306711990...|       0.0|\n",
            "|  0.0|(100,[0,8,23,29,4...| 42|  Private|334783.0|  HS-grad|          9.0| Married-civ-spouse| Prof-specialty|        Wife| White| Female|         0.0|         0.0|          40.0| United-States| <=50K|[0.27006069719058...|[0.63184065671119...|       0.0|\n",
            "|  0.0|(100,[0,8,23,29,4...| 43|  Private|216685.0|  HS-grad|          9.0| Married-civ-spouse| Prof-specialty|        Wife| White| Female|         0.0|         0.0|          35.0| United-States| <=50K|[0.32411841446948...|[0.65661302618254...|       0.0|\n",
            "|  0.0|(100,[0,8,23,29,4...| 48|  Private|199763.0|  HS-grad|          9.0| Married-civ-spouse| Prof-specialty|        Wife| White| Female|         0.0|         0.0|           8.0| United-States| <=50K|[0.43564668916132...|[0.70501475183703...|       0.0|\n",
            "|  0.0|(100,[0,8,23,29,4...| 50|  Private|287927.0|  HS-grad|          9.0| Married-civ-spouse| Prof-specialty|        Wife| White| Female|         0.0|         0.0|          16.0| United-States| <=50K|[0.43564668916132...|[0.70501475183703...|       0.0|\n",
            "|  0.0|(100,[0,8,23,30,4...| 27|  Private| 57052.0|  HS-grad|          9.0| Married-civ-spouse|   Craft-repair|     Husband| White|   Male|      2885.0|         0.0|          40.0| United-States| <=50K|[0.73638589623077...|[0.81347831930366...|       0.0|\n",
            "|  0.0|(100,[0,8,23,30,4...| 32|  Private|400535.0|  HS-grad|          9.0| Married-civ-spouse|   Craft-repair|     Husband| White|   Male|      3781.0|         0.0|          40.0| United-States| <=50K|[0.17476551053636...|[0.58650384813128...|       0.0|\n",
            "|  0.0|(100,[0,8,23,30,4...| 45|  Private|362883.0|  HS-grad|          9.0| Married-civ-spouse|   Craft-repair|     Husband| White|   Male|      5013.0|         0.0|          40.0| United-States| <=50K|[-0.3596685215959...|[0.32753898724327...|       1.0|\n",
            "|  0.0|(100,[0,8,23,30,4...| 46|  Private|248059.0|  HS-grad|          9.0| Married-civ-spouse|   Craft-repair|     Husband| White|   Male|      3464.0|         0.0|          40.0| United-States| <=50K|[0.39861396068999...|[0.68938119457214...|       0.0|\n",
            "|  0.0|(100,[0,8,23,30,4...| 56|  Private|235826.0|  HS-grad|          9.0| Married-civ-spouse|   Craft-repair|     Husband| White|   Male|      5013.0|         0.0|          40.0| United-States| <=50K|[-0.3596685215959...|[0.32753898724327...|       1.0|\n",
            "+-----+--------------------+---+---------+--------+---------+-------------+-------------------+---------------+------------+------+-------+------------+------------+--------------+--------------+------+--------------------+--------------------+----------+\n",
            "only showing top 20 rows\n",
            "\n",
            "Test set accuracy = 0.8467468393462843\n"
          ]
        }
      ]
    },
    {
      "cell_type": "code",
      "metadata": {
        "id": "O9sNFLH0b_LH",
        "colab": {
          "base_uri": "https://localhost:8080/",
          "height": 0
        },
        "outputId": "9f9af6e4-05fd-42b2-80c7-4a7dd9a124bb"
      },
      "source": [
        "# Multi-layer Perceptron\n",
        "\n",
        "from pyspark.ml.classification import MultilayerPerceptronClassifier\n",
        "mlp = MultilayerPerceptronClassifier(featuresCol = 'features', labelCol = 'label', maxIter=10, layers=[100,64,2])\n",
        "mlpModel = mlp.fit(trainingData)\n",
        "\n",
        "# select example rows to display.\n",
        "predictions = mlpModel.transform(testData)\n",
        "predictions.show()\n",
        "\n",
        "# compute accuracy on the test set\n",
        "evaluator = MulticlassClassificationEvaluator(labelCol=\"label\", predictionCol=\"prediction\", metricName=\"accuracy\")\n",
        "accuracy = evaluator.evaluate(predictions)\n",
        "print(\"Test set accuracy = \" + str(accuracy))\n",
        "global_accuracy[\"Multi-layer Perceptron\"] = accuracy\n"
      ],
      "execution_count": 25,
      "outputs": [
        {
          "output_type": "stream",
          "name": "stdout",
          "text": [
            "+-----+--------------------+---+---------+--------+---------+-------------+-------------------+---------------+------------+------+-------+------------+------------+--------------+--------------+------+--------------------+--------------------+----------+\n",
            "|label|            features|age|workclass|  fnlwgt|education|education_num|     marital_status|     occupation|relationship|  race|    sex|capital_gain|capital_loss|hours_per_week|native_country|income|       rawPrediction|         probability|prediction|\n",
            "+-----+--------------------+---+---------+--------+---------+-------------+-------------------+---------------+------------+------+-------+------------+------------+--------------+--------------+------+--------------------+--------------------+----------+\n",
            "|  0.0|(100,[0,8,23,29,4...| 36|  Private|370767.0|  HS-grad|          9.0| Married-civ-spouse| Prof-specialty|     Husband| White|   Male|         0.0|      2377.0|          60.0| United-States| <=50K|[0.44171721659030...|[0.75040502219162...|       0.0|\n",
            "|  0.0|(100,[0,8,23,29,4...| 32|  Private|131224.0|  HS-grad|          9.0| Married-civ-spouse| Prof-specialty|     Husband| White|   Male|         0.0|         0.0|          40.0| United-States| <=50K|[0.37718325776215...|[0.76118625459958...|       0.0|\n",
            "|  0.0|(100,[0,8,23,29,4...| 33|  Private|279173.0|  HS-grad|          9.0| Married-civ-spouse| Prof-specialty|     Husband| White|   Male|         0.0|         0.0|          60.0| United-States| <=50K|[0.37718325776215...|[0.76118625459958...|       0.0|\n",
            "|  0.0|(100,[0,8,23,29,4...| 39|  Private| 50700.0|  HS-grad|          9.0| Married-civ-spouse| Prof-specialty|     Husband| White|   Male|         0.0|         0.0|          40.0| United-States| <=50K|[0.37718325815958...|[0.76118625453418...|       0.0|\n",
            "|  0.0|(100,[0,8,23,29,4...| 39|  Private|181705.0|  HS-grad|          9.0| Married-civ-spouse| Prof-specialty|     Husband| White|   Male|         0.0|         0.0|          45.0| United-States| <=50K|[0.37718325776215...|[0.76118625459958...|       0.0|\n",
            "|  0.0|(100,[0,8,23,29,4...| 50|  Private| 81548.0|  HS-grad|          9.0| Married-civ-spouse| Prof-specialty|     Husband| White|   Male|         0.0|         0.0|          40.0| United-States| <=50K|[0.37718325776216...|[0.76118625459958...|       0.0|\n",
            "|  0.0|(100,[0,8,23,29,4...| 51|  Private| 94432.0|  HS-grad|          9.0| Married-civ-spouse| Prof-specialty|     Husband| White|   Male|         0.0|         0.0|          40.0| United-States| <=50K|[0.37718325776215...|[0.76118625459958...|       0.0|\n",
            "|  0.0|(100,[0,8,23,29,4...| 60|  Private|198727.0|  HS-grad|          9.0| Married-civ-spouse| Prof-specialty|     Husband| White|   Male|         0.0|         0.0|          30.0| United-States| <=50K|[0.37718325776215...|[0.76118625459958...|       0.0|\n",
            "|  0.0|(100,[0,8,23,29,4...| 34|  Private|241360.0|  HS-grad|          9.0| Married-civ-spouse| Prof-specialty|     Husband| White|   Male|         0.0|         0.0|          40.0|             ?| <=50K|[0.37718325776215...|[0.76118625459958...|       0.0|\n",
            "|  0.0|(100,[0,8,23,29,4...| 20|  Private|219266.0|  HS-grad|          9.0| Married-civ-spouse| Prof-specialty|   Own-child| White| Female|         0.0|         0.0|          36.0|             ?| <=50K|[0.37718325776215...|[0.76118625459958...|       0.0|\n",
            "|  0.0|(100,[0,8,23,29,4...| 35|  Private|145704.0|  HS-grad|          9.0| Married-civ-spouse| Prof-specialty|        Wife| White| Female|      3942.0|         0.0|          35.0| United-States| <=50K|[0.44171721659030...|[0.75040502219162...|       0.0|\n",
            "|  0.0|(100,[0,8,23,29,4...| 42|  Private|334783.0|  HS-grad|          9.0| Married-civ-spouse| Prof-specialty|        Wife| White| Female|         0.0|         0.0|          40.0| United-States| <=50K|[0.37718325776215...|[0.76118625459958...|       0.0|\n",
            "|  0.0|(100,[0,8,23,29,4...| 43|  Private|216685.0|  HS-grad|          9.0| Married-civ-spouse| Prof-specialty|        Wife| White| Female|         0.0|         0.0|          35.0| United-States| <=50K|[0.37718325776215...|[0.76118625459958...|       0.0|\n",
            "|  0.0|(100,[0,8,23,29,4...| 48|  Private|199763.0|  HS-grad|          9.0| Married-civ-spouse| Prof-specialty|        Wife| White| Female|         0.0|         0.0|           8.0| United-States| <=50K|[0.37718325776215...|[0.76118625459958...|       0.0|\n",
            "|  0.0|(100,[0,8,23,29,4...| 50|  Private|287927.0|  HS-grad|          9.0| Married-civ-spouse| Prof-specialty|        Wife| White| Female|         0.0|         0.0|          16.0| United-States| <=50K|[0.37718325776215...|[0.76118625459958...|       0.0|\n",
            "|  0.0|(100,[0,8,23,30,4...| 27|  Private| 57052.0|  HS-grad|          9.0| Married-civ-spouse|   Craft-repair|     Husband| White|   Male|      2885.0|         0.0|          40.0| United-States| <=50K|[0.44171721659030...|[0.75040502219162...|       0.0|\n",
            "|  0.0|(100,[0,8,23,30,4...| 32|  Private|400535.0|  HS-grad|          9.0| Married-civ-spouse|   Craft-repair|     Husband| White|   Male|      3781.0|         0.0|          40.0| United-States| <=50K|[0.44171721659030...|[0.75040502219162...|       0.0|\n",
            "|  0.0|(100,[0,8,23,30,4...| 45|  Private|362883.0|  HS-grad|          9.0| Married-civ-spouse|   Craft-repair|     Husband| White|   Male|      5013.0|         0.0|          40.0| United-States| <=50K|[0.44171721659030...|[0.75040502219162...|       0.0|\n",
            "|  0.0|(100,[0,8,23,30,4...| 46|  Private|248059.0|  HS-grad|          9.0| Married-civ-spouse|   Craft-repair|     Husband| White|   Male|      3464.0|         0.0|          40.0| United-States| <=50K|[0.44171721659030...|[0.75040502219162...|       0.0|\n",
            "|  0.0|(100,[0,8,23,30,4...| 56|  Private|235826.0|  HS-grad|          9.0| Married-civ-spouse|   Craft-repair|     Husband| White|   Male|      5013.0|         0.0|          40.0| United-States| <=50K|[0.44171721659030...|[0.75040502219162...|       0.0|\n",
            "+-----+--------------------+---+---------+--------+---------+-------------+-------------------+---------------+------------+------+-------+------------+------------+--------------+--------------+------+--------------------+--------------------+----------+\n",
            "only showing top 20 rows\n",
            "\n",
            "Test set accuracy = 0.7570151094665434\n"
          ]
        }
      ]
    },
    {
      "cell_type": "code",
      "metadata": {
        "id": "AG_EmZcfcCIU",
        "colab": {
          "base_uri": "https://localhost:8080/",
          "height": 0
        },
        "outputId": "6c9684f7-9733-498e-f097-84509dbd9f28"
      },
      "source": [
        "# Linear Support Vector Machine\n",
        "from pyspark.ml.classification import LinearSVC\n",
        "\n",
        "lsvc = LinearSVC(maxIter=10, regParam=0.1, featuresCol = 'features', labelCol = 'label')\n",
        "lsvcModel = lsvc.fit(trainingData)\n",
        "\n",
        "# select example rows to display.\n",
        "predictions = lsvcModel.transform(testData)\n",
        "predictions.show()\n",
        "\n",
        "# compute accuracy on the test set\n",
        "evaluator = MulticlassClassificationEvaluator(labelCol=\"label\", predictionCol=\"prediction\", metricName=\"accuracy\")\n",
        "accuracy = evaluator.evaluate(predictions)\n",
        "print(\"Test set accuracy = \" + str(accuracy))\n",
        "global_accuracy[\"Linear Support Vector Machine\"] = accuracy\n"
      ],
      "execution_count": 26,
      "outputs": [
        {
          "output_type": "stream",
          "name": "stdout",
          "text": [
            "+-----+--------------------+---+---------+--------+---------+-------------+-------------------+---------------+------------+------+-------+------------+------------+--------------+--------------+------+--------------------+----------+\n",
            "|label|            features|age|workclass|  fnlwgt|education|education_num|     marital_status|     occupation|relationship|  race|    sex|capital_gain|capital_loss|hours_per_week|native_country|income|       rawPrediction|prediction|\n",
            "+-----+--------------------+---+---------+--------+---------+-------------+-------------------+---------------+------------+------+-------+------------+------------+--------------+--------------+------+--------------------+----------+\n",
            "|  0.0|(100,[0,8,23,29,4...| 36|  Private|370767.0|  HS-grad|          9.0| Married-civ-spouse| Prof-specialty|     Husband| White|   Male|         0.0|      2377.0|          60.0| United-States| <=50K|[0.50607114630645...|       0.0|\n",
            "|  0.0|(100,[0,8,23,29,4...| 32|  Private|131224.0|  HS-grad|          9.0| Married-civ-spouse| Prof-specialty|     Husband| White|   Male|         0.0|         0.0|          40.0| United-States| <=50K|[0.77444316697791...|       0.0|\n",
            "|  0.0|(100,[0,8,23,29,4...| 33|  Private|279173.0|  HS-grad|          9.0| Married-civ-spouse| Prof-specialty|     Husband| White|   Male|         0.0|         0.0|          60.0| United-States| <=50K|[0.87737916909489...|       0.0|\n",
            "|  0.0|(100,[0,8,23,29,4...| 39|  Private| 50700.0|  HS-grad|          9.0| Married-civ-spouse| Prof-specialty|     Husband| White|   Male|         0.0|         0.0|          40.0| United-States| <=50K|[0.76783563567805...|       0.0|\n",
            "|  0.0|(100,[0,8,23,29,4...| 39|  Private|181705.0|  HS-grad|          9.0| Married-civ-spouse| Prof-specialty|     Husband| White|   Male|         0.0|         0.0|          45.0| United-States| <=50K|[0.82169411700224...|       0.0|\n",
            "|  0.0|(100,[0,8,23,29,4...| 50|  Private| 81548.0|  HS-grad|          9.0| Married-civ-spouse| Prof-specialty|     Husband| White|   Male|         0.0|         0.0|          40.0| United-States| <=50K|[0.80561080920201...|       0.0|\n",
            "|  0.0|(100,[0,8,23,29,4...| 51|  Private| 94432.0|  HS-grad|          9.0| Married-civ-spouse| Prof-specialty|     Husband| White|   Male|         0.0|         0.0|          40.0| United-States| <=50K|[0.81212918268211...|       0.0|\n",
            "|  0.0|(100,[0,8,23,29,4...| 60|  Private|198727.0|  HS-grad|          9.0| Married-civ-spouse| Prof-specialty|     Husband| White|   Male|         0.0|         0.0|          30.0| United-States| <=50K|[0.83968184367934...|       0.0|\n",
            "|  0.0|(100,[0,8,23,29,4...| 34|  Private|241360.0|  HS-grad|          9.0| Married-civ-spouse| Prof-specialty|     Husband| White|   Male|         0.0|         0.0|          40.0|             ?| <=50K|[0.91121845055173...|       0.0|\n",
            "|  0.0|(100,[0,8,23,29,4...| 20|  Private|219266.0|  HS-grad|          9.0| Married-civ-spouse| Prof-specialty|   Own-child| White| Female|         0.0|         0.0|          36.0|             ?| <=50K|[1.10114173826074...|       0.0|\n",
            "|  0.0|(100,[0,8,23,29,4...| 35|  Private|145704.0|  HS-grad|          9.0| Married-civ-spouse| Prof-specialty|        Wife| White| Female|      3942.0|         0.0|          35.0| United-States| <=50K|[0.73360057804846...|       0.0|\n",
            "|  0.0|(100,[0,8,23,29,4...| 42|  Private|334783.0|  HS-grad|          9.0| Married-civ-spouse| Prof-specialty|        Wife| White| Female|         0.0|         0.0|          40.0| United-States| <=50K|[0.89538563672855...|       0.0|\n",
            "|  0.0|(100,[0,8,23,29,4...| 43|  Private|216685.0|  HS-grad|          9.0| Married-civ-spouse| Prof-specialty|        Wife| White| Female|         0.0|         0.0|          35.0| United-States| <=50K|[0.84805256665186...|       0.0|\n",
            "|  0.0|(100,[0,8,23,29,4...| 48|  Private|199763.0|  HS-grad|          9.0| Married-civ-spouse| Prof-specialty|        Wife| White| Female|         0.0|         0.0|           8.0| United-States| <=50K|[0.78138431356457...|       0.0|\n",
            "|  0.0|(100,[0,8,23,29,4...| 50|  Private|287927.0|  HS-grad|          9.0| Married-civ-spouse| Prof-specialty|        Wife| White| Female|         0.0|         0.0|          16.0| United-States| <=50K|[0.83554924733719...|       0.0|\n",
            "|  0.0|(100,[0,8,23,30,4...| 27|  Private| 57052.0|  HS-grad|          9.0| Married-civ-spouse|   Craft-repair|     Husband| White|   Male|      2885.0|         0.0|          40.0| United-States| <=50K|[0.87131950641724...|       0.0|\n",
            "|  0.0|(100,[0,8,23,30,4...| 32|  Private|400535.0|  HS-grad|          9.0| Married-civ-spouse|   Craft-repair|     Husband| White|   Male|      3781.0|         0.0|          40.0| United-States| <=50K|[0.97290822958536...|       0.0|\n",
            "|  0.0|(100,[0,8,23,30,4...| 45|  Private|362883.0|  HS-grad|          9.0| Married-civ-spouse|   Craft-repair|     Husband| White|   Male|      5013.0|         0.0|          40.0| United-States| <=50K|[0.97233389510910...|       0.0|\n",
            "|  0.0|(100,[0,8,23,30,4...| 46|  Private|248059.0|  HS-grad|          9.0| Married-civ-spouse|   Craft-repair|     Husband| White|   Male|      3464.0|         0.0|          40.0| United-States| <=50K|[0.96811608022294...|       0.0|\n",
            "|  0.0|(100,[0,8,23,30,4...| 56|  Private|235826.0|  HS-grad|          9.0| Married-civ-spouse|   Craft-repair|     Husband| White|   Male|      5013.0|         0.0|          40.0| United-States| <=50K|[0.96179173546064...|       0.0|\n",
            "+-----+--------------------+---+---------+--------+---------+-------------+-------------------+---------------+------------+------+-------+------------+------------+--------------+--------------+------+--------------------+----------+\n",
            "only showing top 20 rows\n",
            "\n",
            "Test set accuracy = 0.7692465823825676\n"
          ]
        }
      ]
    },
    {
      "cell_type": "code",
      "metadata": {
        "id": "IvJc9VXrcGFU",
        "colab": {
          "base_uri": "https://localhost:8080/",
          "height": 0
        },
        "outputId": "8c478038-713b-4bb7-920b-f7891d1e5ff2"
      },
      "source": [
        "# One-vs-Rest\n",
        "\n",
        "from pyspark.ml.classification import LogisticRegression, OneVsRest\n",
        "\n",
        "lr = LogisticRegression(maxIter=10, tol=1E-6, fitIntercept=True)\n",
        "\n",
        "# instantiate the One Vs Rest Classifier.\n",
        "ovr = OneVsRest(classifier=lr)\n",
        "\n",
        "# train the multiclass model.\n",
        "ovrModel = ovr.fit(trainingData)\n",
        "\n",
        "predictions = ovrModel.transform(testData)\n",
        "predictions.show()\n",
        "\n",
        "# compute accuracy on the test set\n",
        "evaluator = MulticlassClassificationEvaluator(labelCol=\"label\", predictionCol=\"prediction\", metricName=\"accuracy\")\n",
        "accuracy = evaluator.evaluate(predictions)\n",
        "print(\"Test set accuracy = \" + str(accuracy))\n",
        "global_accuracy[\"One-vs-Rest Model\"] = accuracy\n",
        "\n"
      ],
      "execution_count": 27,
      "outputs": [
        {
          "output_type": "stream",
          "name": "stdout",
          "text": [
            "+-----+--------------------+---+---------+--------+---------+-------------+-------------------+---------------+------------+------+-------+------------+------------+--------------+--------------+------+--------------------+----------+\n",
            "|label|            features|age|workclass|  fnlwgt|education|education_num|     marital_status|     occupation|relationship|  race|    sex|capital_gain|capital_loss|hours_per_week|native_country|income|       rawPrediction|prediction|\n",
            "+-----+--------------------+---+---------+--------+---------+-------------+-------------------+---------------+------------+------+-------+------------+------------+--------------+--------------+------+--------------------+----------+\n",
            "|  0.0|(100,[0,8,23,29,4...| 36|  Private|370767.0|  HS-grad|          9.0| Married-civ-spouse| Prof-specialty|     Husband| White|   Male|         0.0|      2377.0|          60.0| United-States| <=50K|[-1.6357510924782...|       1.0|\n",
            "|  0.0|(100,[0,8,23,29,4...| 32|  Private|131224.0|  HS-grad|          9.0| Married-civ-spouse| Prof-specialty|     Husband| White|   Male|         0.0|         0.0|          40.0| United-States| <=50K|[0.85295442256206...|       0.0|\n",
            "|  0.0|(100,[0,8,23,29,4...| 33|  Private|279173.0|  HS-grad|          9.0| Married-civ-spouse| Prof-specialty|     Husband| White|   Male|         0.0|         0.0|          60.0| United-States| <=50K|[-0.0079547668787...|       1.0|\n",
            "|  0.0|(100,[0,8,23,29,4...| 39|  Private| 50700.0|  HS-grad|          9.0| Married-civ-spouse| Prof-specialty|     Husband| White|   Male|         0.0|         0.0|          40.0| United-States| <=50K|[0.75957590854850...|       0.0|\n",
            "|  0.0|(100,[0,8,23,29,4...| 39|  Private|181705.0|  HS-grad|          9.0| Married-civ-spouse| Prof-specialty|     Husband| White|   Male|         0.0|         0.0|          45.0| United-States| <=50K|[0.45093725125709...|       0.0|\n",
            "|  0.0|(100,[0,8,23,29,4...| 50|  Private| 81548.0|  HS-grad|          9.0| Married-civ-spouse| Prof-specialty|     Husband| White|   Male|         0.0|         0.0|          40.0| United-States| <=50K|[0.44577471083810...|       0.0|\n",
            "|  0.0|(100,[0,8,23,29,4...| 51|  Private| 94432.0|  HS-grad|          9.0| Married-civ-spouse| Prof-specialty|     Husband| White|   Male|         0.0|         0.0|          40.0| United-States| <=50K|[0.40654788507449...|       0.0|\n",
            "|  0.0|(100,[0,8,23,29,4...| 60|  Private|198727.0|  HS-grad|          9.0| Married-civ-spouse| Prof-specialty|     Husband| White|   Male|         0.0|         0.0|          30.0| United-States| <=50K|[0.40504053581001...|       0.0|\n",
            "|  0.0|(100,[0,8,23,29,4...| 34|  Private|241360.0|  HS-grad|          9.0| Married-civ-spouse| Prof-specialty|     Husband| White|   Male|         0.0|         0.0|          40.0|             ?| <=50K|[1.08720718527683...|       0.0|\n",
            "|  0.0|(100,[0,8,23,29,4...| 20|  Private|219266.0|  HS-grad|          9.0| Married-civ-spouse| Prof-specialty|   Own-child| White| Female|         0.0|         0.0|          36.0|             ?| <=50K|[4.45822163249705...|       0.0|\n",
            "|  0.0|(100,[0,8,23,29,4...| 35|  Private|145704.0|  HS-grad|          9.0| Married-civ-spouse| Prof-specialty|        Wife| White| Female|      3942.0|         0.0|          35.0| United-States| <=50K|[-0.4161162517339...|       1.0|\n",
            "|  0.0|(100,[0,8,23,29,4...| 42|  Private|334783.0|  HS-grad|          9.0| Married-civ-spouse| Prof-specialty|        Wife| White| Female|         0.0|         0.0|          40.0| United-States| <=50K|[-0.1412642631044...|       1.0|\n",
            "|  0.0|(100,[0,8,23,29,4...| 43|  Private|216685.0|  HS-grad|          9.0| Married-civ-spouse| Prof-specialty|        Wife| White| Female|         0.0|         0.0|          35.0| United-States| <=50K|[0.12812315412836...|       0.0|\n",
            "|  0.0|(100,[0,8,23,29,4...| 48|  Private|199763.0|  HS-grad|          9.0| Married-civ-spouse| Prof-specialty|        Wife| White| Female|         0.0|         0.0|           8.0| United-States| <=50K|[0.93405412789109...|       0.0|\n",
            "|  0.0|(100,[0,8,23,29,4...| 50|  Private|287927.0|  HS-grad|          9.0| Married-civ-spouse| Prof-specialty|        Wife| White| Female|         0.0|         0.0|          16.0| United-States| <=50K|[0.51804285050028...|       0.0|\n",
            "|  0.0|(100,[0,8,23,30,4...| 27|  Private| 57052.0|  HS-grad|          9.0| Married-civ-spouse|   Craft-repair|     Husband| White|   Male|      2885.0|         0.0|          40.0| United-States| <=50K|[0.89518447502861...|       0.0|\n",
            "|  0.0|(100,[0,8,23,30,4...| 32|  Private|400535.0|  HS-grad|          9.0| Married-civ-spouse|   Craft-repair|     Husband| White|   Male|      3781.0|         0.0|          40.0| United-States| <=50K|[0.21553806989755...|       0.0|\n",
            "|  0.0|(100,[0,8,23,30,4...| 45|  Private|362883.0|  HS-grad|          9.0| Married-civ-spouse|   Craft-repair|     Husband| White|   Male|      5013.0|         0.0|          40.0| United-States| <=50K|[-0.3341750478795...|       1.0|\n",
            "|  0.0|(100,[0,8,23,30,4...| 46|  Private|248059.0|  HS-grad|          9.0| Married-civ-spouse|   Craft-repair|     Husband| White|   Male|      3464.0|         0.0|          40.0| United-States| <=50K|[0.08594392287131...|       0.0|\n",
            "|  0.0|(100,[0,8,23,30,4...| 56|  Private|235826.0|  HS-grad|          9.0| Married-civ-spouse|   Craft-repair|     Husband| White|   Male|      5013.0|         0.0|          40.0| United-States| <=50K|[-0.4803614956010...|       1.0|\n",
            "+-----+--------------------+---+---------+--------+---------+-------------+-------------------+---------------+------------+------+-------+------------+------------+--------------+--------------+------+--------------------+----------+\n",
            "only showing top 20 rows\n",
            "\n",
            "Test set accuracy = 0.8446911296124987\n"
          ]
        }
      ]
    },
    {
      "cell_type": "markdown",
      "metadata": {
        "id": "_WIIE8pEDSR9"
      },
      "source": [
        "4. Comparison and analysis"
      ]
    },
    {
      "cell_type": "code",
      "metadata": {
        "id": "LpoclCFXD7tV",
        "colab": {
          "base_uri": "https://localhost:8080/",
          "height": 0
        },
        "outputId": "2af722c3-e722-4816-e338-ea479229d4a5"
      },
      "source": [
        "# Rank models according to Test set accuracy\n",
        "#=====your code here==========\n",
        "for i in (sorted(global_accuracy.items(), key =\n",
        "             lambda kv:(kv[1], kv[0]),reverse=True)):\n",
        "  print(i)  \n",
        "#==============================="
      ],
      "execution_count": 37,
      "outputs": [
        {
          "output_type": "stream",
          "name": "stdout",
          "text": [
            "('Gradient Boosting Trees', 0.8467468393462843)\n",
            "('One-vs-Rest Model', 0.8446911296124987)\n",
            "('Logistic Regression model', 0.8446911296124987)\n",
            "('Random Forest model', 0.828245451742214)\n",
            "('Decision Tree', 0.828245451742214)\n",
            "('Naive Bayes model', 0.7796279165381849)\n",
            "('Linear Support Vector Machine', 0.7692465823825676)\n",
            "('Multi-layer Perceptron', 0.7570151094665434)\n"
          ]
        }
      ]
    },
    {
      "cell_type": "markdown",
      "metadata": {
        "id": "HL3j030aa7M8"
      },
      "source": [
        "*your analysis*"
      ]
    },
    {
      "cell_type": "markdown",
      "metadata": {
        "id": "2rcwJYoVirmC"
      },
      "source": [
        "### My Analysis\n",
        "\n",
        "In my result Gradient Boosting Trees have performed the best with an accuracy of 0.8467.\n",
        "\n",
        "\n",
        "Next best model was the One vs Rest model with an accuracy of 0.8447 which I used with a logistic regression classifier.\n",
        "\n",
        "\n",
        "After this the next model was the logistic regression model which obtained an accuracy of 0.8447. I observe that a One vs Rest model used with a logistic regression classifier had a better accuracy than a model only using logistic regression classifier.\n",
        "\n",
        "\n",
        "The next model that performed good was a Random Forest Model  which obtained an accuracy of 0.8282 which I had used with default parameters.\n",
        "\n",
        "\n",
        "The next model that performed good was the Decision Tree model which performed almost same as the random forest model maybe due to the default parameters being used.\n",
        "\n",
        "The next model in the list was the linear support vector machine which I used with regParam=0.1 on the data. It did not perform very well since there are a lot of features to be separated by a linear boundary.\n",
        "\n",
        "The worst performing model was the Multi-layer Perceptron which only obtained an accuracy of 0.7570 which can be attributed to the 3 layers which did not learn well."
      ]
    },
    {
      "cell_type": "code",
      "metadata": {
        "id": "Qg0kEmWbQ9Ty"
      },
      "source": [
        ""
      ],
      "execution_count": 26,
      "outputs": []
    }
  ]
}